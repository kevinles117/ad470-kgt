{
 "cells": [
  {
   "cell_type": "markdown",
   "metadata": {},
   "source": [
    "# KGT COYOTE"
   ]
  },
  {
   "cell_type": "markdown",
   "metadata": {
    "colab_type": "text",
    "id": "B_PB-coP5YWo"
   },
   "source": [
    "IMPORTS\n"
   ]
  },
  {
   "cell_type": "code",
   "execution_count": null,
   "metadata": {
    "colab": {},
    "colab_type": "code",
    "id": "VoEgbjsZRM4F"
   },
   "outputs": [],
   "source": [
    "import pandas as pd\n",
    "import numpy as np\n",
    "\n",
    "import os"
   ]
  },
  {
   "cell_type": "markdown",
   "metadata": {
    "colab_type": "text",
    "id": "C4NOgqcD50m2"
   },
   "source": [
    "# Directories\n",
    "\n",
    "### Dataset have three subsets.  Train, Test, Mix \n"
   ]
  },
  {
   "cell_type": "code",
   "execution_count": null,
   "metadata": {
    "colab": {},
    "colab_type": "code",
    "id": "1uJ6jZbOqTov"
   },
   "outputs": [],
   "source": [
    "mix_dir=\"./COYODOG\"\n",
    "test_dir=\"./COYODOG\"\n",
    "train_dir=\"./COYODOG\"\n"
   ]
  },
  {
   "cell_type": "code",
   "execution_count": null,
   "metadata": {
    "colab": {},
    "colab_type": "code",
    "id": "FcnVGBvDqfAs"
   },
   "outputs": [],
   "source": [
    "test_dir_coyote=os.path.join(test_dir,\"validy/coyote\")\n",
    "test_dir_dog=os.path.join(test_dir,\"validy/dogs\")\n",
    "\n",
    "train_dir_coyote=os.path.join(test_dir,\"trainy/coyote\")\n",
    "train_dir_dog=os.path.join(test_dir,\"trainy/dogs\")"
   ]
  },
  {
   "cell_type": "code",
   "execution_count": null,
   "metadata": {
    "colab": {},
    "colab_type": "code",
    "id": "WxUh4CKYXxov"
   },
   "outputs": [],
   "source": [
    "train_coyote_fnames = os.listdir( train_dir_coyote )\n",
    "train_dog_fnames = os.listdir( train_dir_dog )\n",
    "test_coyote_fnames = os.listdir( test_dir_coyote )\n",
    "test_dog_fnames = os.listdir( test_dir_dog )\n",
    "\n",
    "print(train_coyote_fnames[:5])\n",
    "print(train_dog_fnames[:5])\n",
    "print(test_coyote_fnames[:5])\n",
    "print(test_dog_fnames[:5]) \n",
    "\n",
    "print(\"Train data Coyote: \",len(os.listdir(train_dir_coyote)))\n",
    "print(\"Train data Dogs: \",len(os.listdir(train_dir_dog)))\n",
    "\n",
    "print(\"Test Data Coyote: \",len(os.listdir(test_dir_dog)))\n",
    "print(\"Test Data Dog: \",len(os.listdir(test_dir_coyote))) "
   ]
  },
  {
   "cell_type": "code",
   "execution_count": null,
   "metadata": {},
   "outputs": [],
   "source": [
    "import tensorflow as tf\n",
    "from tensorflow.keras import models\n",
    "from tensorflow.keras import layers\n",
    "from tensorflow.keras.preprocessing import image\n",
    "from tensorflow.keras.preprocessing.image import ImageDataGenerator\n",
    "import matplotlib.pyplot as plt"
   ]
  },
  {
   "cell_type": "markdown",
   "metadata": {
    "colab_type": "text",
    "id": "PAJ7J_am-abX"
   },
   "source": [
    "## Let's see the data\n"
   ]
  },
  {
   "cell_type": "code",
   "execution_count": null,
   "metadata": {
    "colab": {},
    "colab_type": "code",
    "id": "TNLsPw-B6GJS"
   },
   "outputs": [],
   "source": [
    "import matplotlib.image as mpimg\n",
    "import matplotlib.pyplot as plt\n",
    "\n",
    "nrows = 4\n",
    "ncols = 4\n",
    "pic_index = 0 \n",
    "fig = plt.gcf()\n",
    "fig.set_size_inches(ncols*4, nrows*4)\n",
    "pic_index+=4\n",
    "next_coyote_pix = [os.path.join(train_dir_coyote, fname) \n",
    "                for fname in train_coyote_fnames[ pic_index-4:pic_index] \n",
    "               ]\n",
    "next_dog_pix = [os.path.join(train_dir_dog, fname) \n",
    "                for fname in train_dog_fnames[ pic_index-4:pic_index]\n",
    "               ]\n",
    "\n"
   ]
  },
  {
   "cell_type": "markdown",
   "metadata": {},
   "source": [
    "## Loop"
   ]
  },
  {
   "cell_type": "code",
   "execution_count": null,
   "metadata": {},
   "outputs": [],
   "source": [
    "for i, img_path in enumerate(next_coyote_pix+next_dog_pix):\n",
    "  sp = plt.subplot(nrows, ncols, i + 1)\n",
    "  sp.axis('Off') \n",
    "  img = mpimg.imread(img_path)\n",
    "  plt.imshow(img)"
   ]
  },
  {
   "cell_type": "markdown",
   "metadata": {
    "colab_type": "text",
    "id": "rrP-Para7-3h"
   },
   "source": [
    "A Small Model to start"
   ]
  },
  {
   "cell_type": "code",
   "execution_count": null,
   "metadata": {
    "colab": {},
    "colab_type": "code",
    "id": "UhXYecNQZ7qh"
   },
   "outputs": [],
   "source": [
    "def Create_model():\n",
    "  model=tf.keras.models.Sequential()\n",
    "  model.add(layers.Conv2D(32,(3,3),activation=\"relu\",input_shape=(150,150,3)))\n",
    "  model.add(layers.MaxPool2D(2,2))\n",
    "  model.add(layers.Conv2D(64,(3,3),activation='relu'))\n",
    "  model.add(layers.MaxPool2D(2,2))\n",
    "  model.add(layers.Conv2D(128,(3,3),activation='relu'))\n",
    "  model.add(layers.MaxPool2D(2,2))\n",
    "  model.add(layers.Conv2D(128,(3,3),activation='relu'))\n",
    "  model.add(layers.Flatten())\n",
    "  model.add(layers.Dense(512,activation=\"relu\"))\n",
    "  model.add(layers.Dense(1,activation=\"sigmoid\"))\n",
    "  return model"
   ]
  },
  {
   "cell_type": "code",
   "execution_count": null,
   "metadata": {
    "colab": {},
    "colab_type": "code",
    "id": "t8AQqCOfbutm"
   },
   "outputs": [],
   "source": [
    "model=Create_model()\n",
    "model.summary()"
   ]
  },
  {
   "cell_type": "markdown",
   "metadata": {
    "colab_type": "text",
    "id": "txFl9NLJ-x2d"
   },
   "source": [
    "### Compile\n"
   ]
  },
  {
   "cell_type": "code",
   "execution_count": null,
   "metadata": {
    "colab": {},
    "colab_type": "code",
    "id": "qN6KyjuOb19L"
   },
   "outputs": [],
   "source": [
    "model.compile(tf.keras.optimizers.Adam(1e-4),tf.keras.losses.binary_crossentropy,metrics=['accuracy'])"
   ]
  },
  {
   "cell_type": "markdown",
   "metadata": {
    "colab_type": "text",
    "id": "Z2BA3zZT8HA4"
   },
   "source": [
    "# Image Processing\n"
   ]
  },
  {
   "cell_type": "code",
   "execution_count": null,
   "metadata": {
    "colab": {},
    "colab_type": "code",
    "id": "OEnGaJjTcs8T"
   },
   "outputs": [],
   "source": [
    "train_datagen=ImageDataGenerator(rescale=1.0/255,rotation_range=40,\n",
    "            width_shift_range=0.2,height_shift_range=0.2,\n",
    "            shear_range=0.2,zoom_range=0.2,\n",
    "            horizontal_flip=True,fill_mode=\"nearest\")\n",
    "test_datagen=ImageDataGenerator(rescale=1.0/255)"
   ]
  },
  {
   "cell_type": "code",
   "execution_count": null,
   "metadata": {
    "colab": {},
    "colab_type": "code",
    "id": "v3BBNbjzeyVX"
   },
   "outputs": [],
   "source": [
    "train_gen=train_datagen.flow_from_directory(train_dir,batch_size=20,class_mode=\"binary\",target_size=(150,150))\n",
    "validation_gen=test_datagen.flow_from_directory(test_dir,batch_size=20,class_mode=\"binary\",target_size=(150,150))"
   ]
  },
  {
   "cell_type": "markdown",
   "metadata": {
    "colab_type": "text",
    "id": "I8LaeTuK8TDm"
   },
   "source": [
    "## **Train Model**"
   ]
  },
  {
   "cell_type": "code",
   "execution_count": null,
   "metadata": {
    "colab": {},
    "colab_type": "code",
    "id": "eqC0gIJifgw3"
   },
   "outputs": [],
   "source": [
    "history=model.fit_generator(train_gen,epochs=1,steps_per_epoch=20,validation_data=validation_gen,validation_steps=20)"
   ]
  },
  {
   "cell_type": "markdown",
   "metadata": {},
   "source": [
    "Save"
   ]
  },
  {
   "cell_type": "code",
   "execution_count": null,
   "metadata": {
    "colab": {},
    "colab_type": "code",
    "id": "1biZrR-dgVve"
   },
   "outputs": [],
   "source": [
    "model.save(\"smallmodel.h5\")"
   ]
  },
  {
   "cell_type": "markdown",
   "metadata": {},
   "source": [
    "Check History"
   ]
  },
  {
   "cell_type": "code",
   "execution_count": null,
   "metadata": {},
   "outputs": [],
   "source": [
    "history.history\n"
   ]
  },
  {
   "cell_type": "markdown",
   "metadata": {},
   "source": [
    "Predict"
   ]
  },
  {
   "cell_type": "code",
   "execution_count": null,
   "metadata": {},
   "outputs": [],
   "source": [
    "from tensorflow.keras.models import load_model\n",
    "model=load_model(\"smallmodel.h5\")\n",
    "test_image=image.load_img(\"Coyotetestone.jpg\",target_size=(150,150))\n",
    "\n",
    "test_image=image.img_to_array(test_image)\n",
    "test_image=np.expand_dims(test_image,axis=0)\n",
    "result=model.predict(test_image)\n",
    "map=train_gen.class_indices\n",
    "print(map)\n",
    "\n",
    "if result[0][0]>0:\n",
    "    predict='coyote'\n",
    "else:\n",
    "    predict='dog'    \n",
    "\n",
    "print(\"this image is:\",predict)"
   ]
  },
  {
   "cell_type": "markdown",
   "metadata": {
    "colab_type": "text",
    "id": "_3FVWo7d_S-i"
   },
   "source": [
    "## Evaluating \n",
    "\n"
   ]
  },
  {
   "cell_type": "code",
   "execution_count": null,
   "metadata": {
    "colab": {},
    "colab_type": "code",
    "id": "ZG5RsL1P_V2h"
   },
   "outputs": [],
   "source": [
    "accuracy = history.history[\"acc\"]\n",
    "loss=history.history['loss']\n",
    "val_accuracy=history.history['val_acc']\n",
    "val_loss=history.history['val_loss']\n",
    "epochs=range(len(accuracy))"
   ]
  },
  {
   "cell_type": "code",
   "execution_count": null,
   "metadata": {
    "colab": {},
    "colab_type": "code",
    "id": "9BOT2ejp_pRd"
   },
   "outputs": [],
   "source": [
    "plt.plot(epochs,accuracy)\n",
    "plt.plot(epochs,val_accuracy)\n",
    "plt.title(\"training and validation Accuracy\")\n",
    "plt.show()"
   ]
  },
  {
   "cell_type": "code",
   "execution_count": null,
   "metadata": {
    "colab": {},
    "colab_type": "code",
    "id": "Yhm9rvM_AXEG"
   },
   "outputs": [],
   "source": [
    "plt.plot(epochs,loss)\n",
    "plt.plot(epochs,val_loss)\n",
    "plt.title(\"training and Validation loss\")\n",
    "plt.show()"
   ]
  },
  {
   "cell_type": "markdown",
   "metadata": {
    "colab_type": "text",
    "id": "k9KOhz_wBS4u"
   },
   "source": [
    "## NOW to Create Big Model"
   ]
  },
  {
   "cell_type": "markdown",
   "metadata": {
    "colab": {},
    "colab_type": "code",
    "id": "JC6V8Oh1CQvT"
   },
   "source": [
    "BELOW  WE CAN CREATE A BIG MODEL NOW"
   ]
  },
  {
   "cell_type": "code",
   "execution_count": null,
   "metadata": {},
   "outputs": [],
   "source": []
  }
 ],
 "metadata": {
  "accelerator": "GPU",
  "colab": {
   "authorship_tag": "ABX9TyNo0lo8baPsOId7ABLsnpXG",
   "collapsed_sections": [],
   "include_colab_link": true,
   "mount_file_id": "1a09QoKhTD9-E-neC0KfbLMg6zbdRt-0g",
   "name": "Cat and Dog Classification(CNN).ipynb",
   "private_outputs": true,
   "provenance": []
  },
  "kernelspec": {
   "display_name": "Python 3",
   "language": "python",
   "name": "python3"
  },
  "language_info": {
   "codemirror_mode": {
    "name": "ipython",
    "version": 3
   },
   "file_extension": ".py",
   "mimetype": "text/x-python",
   "name": "python",
   "nbconvert_exporter": "python",
   "pygments_lexer": "ipython3",
   "version": "3.7.6"
  }
 },
 "nbformat": 4,
 "nbformat_minor": 1
}
